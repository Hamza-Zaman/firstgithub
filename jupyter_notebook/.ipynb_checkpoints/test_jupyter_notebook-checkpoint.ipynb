{
 "cells": [
  {
   "cell_type": "markdown",
   "id": "bccc25fc",
   "metadata": {},
   "source": [
    "# Python with Hamza\n",
    "## How to use Jupyter Notebook\n",
    "## Basics of Python\n",
    "### **01- My first program**"
   ]
  },
  {
   "cell_type": "code",
   "execution_count": 3,
   "id": "3be89ca0",
   "metadata": {},
   "outputs": [
    {
     "name": "stdout",
     "output_type": "stream",
     "text": [
      "5\n",
      "Hello World\n",
      "I am learning R with Hamza\n"
     ]
    }
   ],
   "source": [
    "print(2+3)\n",
    "print(\"Hello World\")\n",
    "print(\"I am learning R with Hamza\")"
   ]
  },
  {
   "cell_type": "markdown",
   "id": "9a8bac74",
   "metadata": {},
   "source": [
    "### **02- operators**"
   ]
  },
  {
   "cell_type": "code",
   "execution_count": 4,
   "id": "6519a553",
   "metadata": {},
   "outputs": [
    {
     "name": "stdout",
     "output_type": "stream",
     "text": [
      "5\n",
      "2\n",
      "20\n",
      "2\n",
      "8\n",
      "1.5\n",
      "1\n",
      "54.25\n"
     ]
    }
   ],
   "source": [
    "print(2+3)\n",
    "print(5-3)\n",
    "print(4*5)\n",
    "print(9%7)\n",
    "print(2**3)\n",
    "print(3/2)\n",
    "\n",
    "print(3//2)\n",
    "\n",
    "print(3**2+7*6+5/4-3+5)"
   ]
  },
  {
   "cell_type": "code",
   "execution_count": null,
   "id": "0d920592",
   "metadata": {},
   "outputs": [],
   "source": []
  },
  {
   "cell_type": "markdown",
   "id": "af28ca3d",
   "metadata": {},
   "source": [
    "*PEMDAS\n",
    "Parenthesis Exponents Multiply Divide Addition Subtraction\n",
    "LEFT to Right Sequence for M D & A S*"
   ]
  },
  {
   "cell_type": "markdown",
   "id": "00fb92be",
   "metadata": {},
   "source": [
    "### **03- Strings**"
   ]
  },
  {
   "cell_type": "code",
   "execution_count": 5,
   "id": "27d14a0d",
   "metadata": {},
   "outputs": [
    {
     "name": "stdout",
     "output_type": "stream",
     "text": [
      "Hello World\n",
      "I'm learning Python with Hamza\n",
      "Test for single quotes\n",
      "test for double quotes\n",
      " test for triple quotes \n",
      "What's up    ?\n",
      "  Check spaces   ..\n"
     ]
    }
   ],
   "source": [
    "print(\"Hello World\")\n",
    "print(\"I'm learning Python with Hamza\")\n",
    "print('Test for single quotes')\n",
    "print(\"test for double quotes\")\n",
    "print(''' test for triple quotes ''')\n",
    "\n",
    "# print('What's up') Shows error \n",
    "print(\"What's up    ?\") \n",
    "print(\"  Check spaces   ..\")"
   ]
  },
  {
   "cell_type": "markdown",
   "id": "cd6bb612",
   "metadata": {},
   "source": [
    "### **04- Comments**"
   ]
  },
  {
   "cell_type": "code",
   "execution_count": 7,
   "id": "e7c5c931",
   "metadata": {},
   "outputs": [
    {
     "name": "stdout",
     "output_type": "stream",
     "text": [
      "How are you?\n",
      "I'm learning Python with Hamza\n",
      "5\n"
     ]
    }
   ],
   "source": [
    "print(\"How are you?\") # Ctrl + / to comment out\n",
    "print(\"I'm learning Python with Hamza\") # print a string\n",
    "\n",
    "print(2+3) # print operators function with numbers\n",
    "\n"
   ]
  },
  {
   "cell_type": "markdown",
   "id": "501b63ac",
   "metadata": {},
   "source": [
    "### **05- Variables**"
   ]
  },
  {
   "cell_type": "code",
   "execution_count": 8,
   "id": "1d803be2",
   "metadata": {},
   "outputs": [
    {
     "name": "stdout",
     "output_type": "stream",
     "text": [
      "5\n",
      "I am learning Python from Codanics\n",
      "15\n",
      "<class 'int'>\n",
      "<class 'str'>\n",
      "Mangoes, 4\n",
      "<class 'str'>\n"
     ]
    }
   ],
   "source": [
    "#variables: Objects containing specific values\n",
    "x = 5 #numeric or integer variable\n",
    "print(x)\n",
    "\n",
    "y = \"I am learning Python from Codanics\" #string variable\n",
    "print(y)\n",
    "\n",
    "x= x+10 #or x=15\n",
    "print(x) \n",
    "\n",
    "#types/class of variables\n",
    "print(type(x))\n",
    "\n",
    "print(type(y))\n",
    "\n",
    "#print_type_classes\n",
    "\n",
    "# Rules to assign a  variable\n",
    "# 1- The variable should contain letters, numbers, or underscores\n",
    "# 2- Do not start with numbers\n",
    "# 3- Spaces are not allowed\n",
    "# 4- Do not use keywords used in functions (break, mean, media, test, etc. Google the list)\n",
    "# 5- Short and Descriptive\n",
    "# 6- Case Sensitivity (Lowercase, Uppercase Letters. Lowercase letters should be used)\n",
    "\n",
    "fruit_basket= 4\n",
    "fruit_basket=\"Mangoes, 4\"\n",
    "# x=\"Mangoes, 4\", \"Oranges\"\n",
    "# print(x)\n",
    "# del fruit_basket\n",
    "print(fruit_basket)\n",
    "print(type(fruit_basket))\n"
   ]
  },
  {
   "cell_type": "markdown",
   "id": "64aa829f",
   "metadata": {},
   "source": [
    "### **06- Input Variables**"
   ]
  },
  {
   "cell_type": "code",
   "execution_count": 9,
   "id": "59c7536a",
   "metadata": {},
   "outputs": [
    {
     "name": "stdout",
     "output_type": "stream",
     "text": [
      "What is your name? Hamza\n",
      "How old are you? 18\n",
      "Hello! Hamza , You are still young\n"
     ]
    }
   ],
   "source": [
    "# fruit_basket=\"Mangoes\"\n",
    "# print(fruit_basket)\n",
    "\n",
    "# #input function simple\n",
    "# name= input(\"What is your favourite food? \")\n",
    "# print(name)\n",
    "\n",
    "# #input function at second stage\n",
    "# name=input(\"What is your name? \")\n",
    "# greetings=\"Hello! \"\n",
    "# print(greetings, name)\n",
    "\n",
    "#another way of stage 2 input function\n",
    "# name= input(\"What is your name? \")\n",
    "# print (\"Hello!\", name)\n",
    "\n",
    "#3rd stage input function\n",
    "name= input(\"What is your name? \")\n",
    "age= input(\"How old are you? \")\n",
    "greetings= \"Hello!\"\n",
    "print(greetings,name,\", You are still young\" )"
   ]
  },
  {
   "cell_type": "markdown",
   "id": "b768495c",
   "metadata": {},
   "source": [
    "### **07- Conditional Logics**"
   ]
  },
  {
   "cell_type": "code",
   "execution_count": 10,
   "id": "23b3e9df",
   "metadata": {},
   "outputs": [
    {
     "name": "stdout",
     "output_type": "stream",
     "text": [
      "What is your age? 21\n",
      "<class 'int'>\n",
      "False\n"
     ]
    }
   ],
   "source": [
    "# logicals operators are either \"True or False\" or \"Yes or No\" or \"0 or 1\"\n",
    "# equal to                      ==\n",
    "# not equal to                  !=\n",
    "# less than                     <\n",
    "# greater than                  >\n",
    "# less than and equal to        <=\n",
    "# greater than and equal to     >=\n",
    "\n",
    "# is 4 equal to 4?\n",
    "# print(4==4)\n",
    "# print(4!=5)\n",
    "# print(4<5)\n",
    "# print(4>5)\n",
    "# print(4<=5)\n",
    "# print(4<=4)\n",
    "# print(4>=6)\n",
    "# print(4>=4)\n",
    "\n",
    "#application of logical operators\n",
    "# hamza_age=5\n",
    "# age_at_school=6\n",
    "# print(hamza_age==age_at_school)\n",
    "\n",
    "#input fucntion and logical operator\n",
    "hamza_age=input(\"What is your age? \") #input function\n",
    "hamza_age=int(hamza_age) #convert string into integer\n",
    "print(type(hamza_age)) \n",
    "\n",
    "age_at_school=5\n",
    "print(hamza_age==age_at_school) #logical operator\n"
   ]
  },
  {
   "cell_type": "markdown",
   "id": "b781e6cd",
   "metadata": {},
   "source": [
    "### **08- Type Conversion**"
   ]
  },
  {
   "cell_type": "code",
   "execution_count": 11,
   "id": "2621a6b3",
   "metadata": {},
   "outputs": [
    {
     "name": "stdout",
     "output_type": "stream",
     "text": [
      "What is your name? Hamza\n",
      "Hamza <class 'str'>\n"
     ]
    }
   ],
   "source": [
    "# x= 10     #integer\n",
    "# y= 10.2   #float\n",
    "# z= \"Hello\" #string\n",
    "\n",
    "# #implicit type conversion\n",
    "# x=x+y   #float\n",
    "# print(x,y,z)\n",
    "# print(x, \"Type of x is:\",type(x))\n",
    "\n",
    "#explicit type conversion\n",
    "# age=input(\"What is your age? \")\n",
    "# print(type(age))\n",
    "# age=int(age)\n",
    "# print(age)\n",
    "# print(type(age))\n",
    "\n",
    "# #age\n",
    "# age=input(\"What is your age? \")\n",
    "# print(age, type(float(age)))\n",
    "\n",
    "#name\n",
    "name=input(\"What is your name? \")\n",
    "print(name, type(str(name)))\n"
   ]
  },
  {
   "cell_type": "markdown",
   "id": "c81ee422",
   "metadata": {},
   "source": [
    "### **09- if:else:elif**"
   ]
  },
  {
   "cell_type": "code",
   "execution_count": 12,
   "id": "c8e6f605",
   "metadata": {},
   "outputs": [
    {
     "name": "stdout",
     "output_type": "stream",
     "text": [
      "Hamza should join higher secondary school\n"
     ]
    }
   ],
   "source": [
    "hamza_age=6\n",
    "required_age_at_school=5\n",
    "\n",
    "# question: can hammad go to school?\n",
    "\n",
    "if hamza_age==required_age_at_school:\n",
    "    print(\"Congratulations! Hamza can join a school.\")\n",
    "elif hamza_age>required_age_at_school:\n",
    "    print(\"Hamza should join higher secondary school\")   \n",
    "elif hamza_age<=2:\n",
    "    print(\"Hamza is a baby. You should take care of him\")    \n",
    "else:\n",
    "    print(\"Hamza cannot join a school\")\n"
   ]
  },
  {
   "cell_type": "markdown",
   "id": "c8fb17f2",
   "metadata": {},
   "source": [
    "### **10- Functions**"
   ]
  },
  {
   "cell_type": "code",
   "execution_count": 13,
   "id": "c62ff3ef",
   "metadata": {},
   "outputs": [
    {
     "name": "stdout",
     "output_type": "stream",
     "text": [
      "38\n"
     ]
    }
   ],
   "source": [
    "# print(\"I am learning Python from codanics\")\n",
    "# print(\"I am learning Python from codanics\")\n",
    "# print(\"I am learning Python from codanics\")\n",
    "# print(\"I am learning Python from codanics\")\n",
    "\n",
    "#define your own funciton\n",
    "#1\n",
    "from cgitb import text\n",
    "\n",
    "\n",
    "# def print_codanics():\n",
    "#     print(\"I am learning Python from codanics\")\n",
    "#     print(\"I am learning Python from codanics\")\n",
    "#     print(\"I am learning Python from codanics\")\n",
    "\n",
    "# print_codanics()\n",
    "\n",
    "# #2\n",
    "# def print_codanics():\n",
    "#     text=\"I am learning Python from Ammaar\"\n",
    "#     print(text)\n",
    "#     print(text)\n",
    "#     print(text)\n",
    "\n",
    "# print_codanics()\n",
    "\n",
    "#3\n",
    "# def print_codanics(text):\n",
    "#     print(text)\n",
    "#     print(text)\n",
    "#     print(text)\n",
    "# print_codanics(\"I am learning Python from Codanics Youtube channel\")\n",
    "\n",
    "# defining a function with if, elif, and else statements\n",
    "\n",
    "# def school_calculator(age):\n",
    "#     if age==5:\n",
    "#        print(\"Hamza can join a school\")\n",
    "#     elif age>5:\n",
    "#         print(\"Hamza should go to higher school\")\n",
    "#     else:\n",
    "#         print(\"Hamza is still a baby\")\n",
    "\n",
    "# school_calculator(6)\n",
    "\n",
    "# defining a function of future\n",
    "def future_age(age):\n",
    "     new_age=age+20\n",
    "     return(new_age)\n",
    "    \n",
    "\n",
    "future_predicted_age=future_age(18)\n",
    "print(future_predicted_age)\n"
   ]
  },
  {
   "cell_type": "markdown",
   "id": "b72f3835",
   "metadata": {},
   "source": [
    "### **11- Loops(while & for)**"
   ]
  },
  {
   "cell_type": "code",
   "execution_count": 15,
   "id": "9b555933",
   "metadata": {},
   "outputs": [
    {
     "name": "stdout",
     "output_type": "stream",
     "text": [
      "Mon\n",
      "Tue\n",
      "Wed\n",
      "Thu\n",
      "Sat\n",
      "Sun\n"
     ]
    }
   ],
   "source": [
    "# while and for loops\n",
    "\n",
    "# while loops\n",
    "# x=0\n",
    "# while (x<5):\n",
    "#     print(x)\n",
    "#     x=x+1\n",
    "\n",
    "#for loops\n",
    "# for x in range(5,11):\n",
    "#     print(x)\n",
    "\n",
    "#array\n",
    "days=[\"Mon\", \"Tue\", \"Wed\", \"Thu\", \"Fri\", \"Sat\", \"Sun\"]\n",
    "for d in days:\n",
    "    # if(d==\"Fri\"): break #loop stop\n",
    "    if(d==\"Fri\"): continue #skip d\n",
    "    print(d)\n"
   ]
  },
  {
   "cell_type": "markdown",
   "id": "d911f007",
   "metadata": {},
   "source": [
    "### **12- Import Libraries**"
   ]
  },
  {
   "cell_type": "code",
   "execution_count": 16,
   "id": "363c3f5e",
   "metadata": {},
   "outputs": [
    {
     "name": "stdout",
     "output_type": "stream",
     "text": [
      "The value of pi is: 3.141592653589793\n",
      "The mean of x is 200\n"
     ]
    }
   ],
   "source": [
    "# if you want to print the vlaue of pi\n",
    "\n",
    "import math\n",
    "print(\"The value of pi is:\", math.pi)\n",
    "\n",
    "import statistics\n",
    "x=[100,150,200,250,300]\n",
    "print(\"The mean of x is\", statistics.mean(x))\n",
    "\n",
    "#numpy, pandas"
   ]
  },
  {
   "cell_type": "markdown",
   "id": "51e8b45c",
   "metadata": {},
   "source": [
    "### **13- TroubleShooting**"
   ]
  },
  {
   "cell_type": "code",
   "execution_count": 17,
   "id": "88c82fba",
   "metadata": {},
   "outputs": [
    {
     "name": "stdout",
     "output_type": "stream",
     "text": [
      "HelloHamza\n"
     ]
    }
   ],
   "source": [
    "# print(I am learning Python) #syntax error\n",
    "\n",
    "# print(12/0) #run time error\n",
    "\n",
    "# name=\"Hamza\"\n",
    "# print(\"Hello name\") #symantic error. Python is right, our logic is not correct\n",
    "\n",
    "name=\"Hamza\"\n",
    "print(\"Hello\"+name) #removes the space\n"
   ]
  },
  {
   "cell_type": "code",
   "execution_count": null,
   "id": "56dc87af",
   "metadata": {},
   "outputs": [],
   "source": []
  }
 ],
 "metadata": {
  "kernelspec": {
   "display_name": "Python 3 (ipykernel)",
   "language": "python",
   "name": "python3"
  },
  "language_info": {
   "codemirror_mode": {
    "name": "ipython",
    "version": 3
   },
   "file_extension": ".py",
   "mimetype": "text/x-python",
   "name": "python",
   "nbconvert_exporter": "python",
   "pygments_lexer": "ipython3",
   "version": "3.9.12"
  }
 },
 "nbformat": 4,
 "nbformat_minor": 5
}
