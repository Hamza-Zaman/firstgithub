{
 "cells": [
  {
   "cell_type": "markdown",
   "id": "045421f0",
   "metadata": {},
   "source": [
    "# -Indexing"
   ]
  },
  {
   "cell_type": "code",
   "execution_count": 10,
   "id": "ca36be9c",
   "metadata": {},
   "outputs": [],
   "source": [
    "a='Samosa Pakora'"
   ]
  },
  {
   "cell_type": "code",
   "execution_count": 11,
   "id": "09f98361",
   "metadata": {},
   "outputs": [
    {
     "data": {
      "text/plain": [
       "'Samosa Pakora'"
      ]
     },
     "execution_count": 11,
     "metadata": {},
     "output_type": "execute_result"
    }
   ],
   "source": [
    "a"
   ]
  },
  {
   "cell_type": "code",
   "execution_count": 12,
   "id": "75408a8a",
   "metadata": {},
   "outputs": [
    {
     "data": {
      "text/plain": [
       "13"
      ]
     },
     "execution_count": 12,
     "metadata": {},
     "output_type": "execute_result"
    }
   ],
   "source": [
    "#length of Indeces\n",
    "len(a)"
   ]
  },
  {
   "cell_type": "code",
   "execution_count": 13,
   "id": "6c3e14c1",
   "metadata": {},
   "outputs": [
    {
     "data": {
      "text/plain": [
       "'S'"
      ]
     },
     "execution_count": 13,
     "metadata": {},
     "output_type": "execute_result"
    }
   ],
   "source": [
    "a[0]"
   ]
  },
  {
   "cell_type": "code",
   "execution_count": 14,
   "id": "ae8d7362",
   "metadata": {},
   "outputs": [
    {
     "data": {
      "text/plain": [
       "'a'"
      ]
     },
     "execution_count": 14,
     "metadata": {},
     "output_type": "execute_result"
    }
   ],
   "source": [
    "a[1]\n"
   ]
  },
  {
   "cell_type": "code",
   "execution_count": 15,
   "id": "4e1a52a8",
   "metadata": {},
   "outputs": [
    {
     "data": {
      "text/plain": [
       "'o'"
      ]
     },
     "execution_count": 15,
     "metadata": {},
     "output_type": "execute_result"
    }
   ],
   "source": [
    "a[3]"
   ]
  },
  {
   "cell_type": "code",
   "execution_count": 16,
   "id": "73704433",
   "metadata": {},
   "outputs": [
    {
     "data": {
      "text/plain": [
       "'a'"
      ]
     },
     "execution_count": 16,
     "metadata": {},
     "output_type": "execute_result"
    }
   ],
   "source": [
    "a[12]"
   ]
  },
  {
   "cell_type": "code",
   "execution_count": 19,
   "id": "ebd3f214",
   "metadata": {},
   "outputs": [
    {
     "data": {
      "text/plain": [
       "'Samos'"
      ]
     },
     "execution_count": 19,
     "metadata": {},
     "output_type": "execute_result"
    }
   ],
   "source": [
    "a[0:5]"
   ]
  },
  {
   "cell_type": "code",
   "execution_count": 20,
   "id": "a249252f",
   "metadata": {},
   "outputs": [
    {
     "data": {
      "text/plain": [
       "'Samosa'"
      ]
     },
     "execution_count": 20,
     "metadata": {},
     "output_type": "execute_result"
    }
   ],
   "source": [
    "a[0:6]"
   ]
  },
  {
   "cell_type": "code",
   "execution_count": 21,
   "id": "09b445e1",
   "metadata": {},
   "outputs": [
    {
     "data": {
      "text/plain": [
       "'Samosa Pakora'"
      ]
     },
     "execution_count": 21,
     "metadata": {},
     "output_type": "execute_result"
    }
   ],
   "source": [
    "# last index is exlusive\n",
    "a[0:13]"
   ]
  },
  {
   "cell_type": "code",
   "execution_count": 22,
   "id": "28bff427",
   "metadata": {},
   "outputs": [
    {
     "data": {
      "text/plain": [
       "'a'"
      ]
     },
     "execution_count": 22,
     "metadata": {},
     "output_type": "execute_result"
    }
   ],
   "source": [
    "#always know the length. Reverse starts from -1\n",
    "a[-1]"
   ]
  },
  {
   "cell_type": "code",
   "execution_count": 23,
   "id": "bbfe7a61",
   "metadata": {},
   "outputs": [
    {
     "data": {
      "text/plain": [
       "'Pakora'"
      ]
     },
     "execution_count": 23,
     "metadata": {},
     "output_type": "execute_result"
    }
   ],
   "source": [
    "a[-6:13]"
   ]
  },
  {
   "cell_type": "markdown",
   "id": "e3c80c11",
   "metadata": {},
   "source": [
    "## string methods"
   ]
  },
  {
   "cell_type": "code",
   "execution_count": 24,
   "id": "885fbc33",
   "metadata": {},
   "outputs": [],
   "source": [
    "food = \"biryani\""
   ]
  },
  {
   "cell_type": "code",
   "execution_count": 25,
   "id": "b1369d23",
   "metadata": {},
   "outputs": [
    {
     "data": {
      "text/plain": [
       "'biryani'"
      ]
     },
     "execution_count": 25,
     "metadata": {},
     "output_type": "execute_result"
    }
   ],
   "source": [
    "food"
   ]
  },
  {
   "cell_type": "code",
   "execution_count": 26,
   "id": "8b679b00",
   "metadata": {},
   "outputs": [
    {
     "data": {
      "text/plain": [
       "'Biryani'"
      ]
     },
     "execution_count": 26,
     "metadata": {},
     "output_type": "execute_result"
    }
   ],
   "source": [
    "# capitalize every element\n",
    "food.capitalize()"
   ]
  },
  {
   "cell_type": "code",
   "execution_count": 27,
   "id": "9e742297",
   "metadata": {},
   "outputs": [
    {
     "data": {
      "text/plain": [
       "'BIRYANI'"
      ]
     },
     "execution_count": 27,
     "metadata": {},
     "output_type": "execute_result"
    }
   ],
   "source": [
    "# uppercase letters\n",
    "food.upper()"
   ]
  },
  {
   "cell_type": "code",
   "execution_count": 28,
   "id": "8d5d01b1",
   "metadata": {},
   "outputs": [
    {
     "data": {
      "text/plain": [
       "'biryani'"
      ]
     },
     "execution_count": 28,
     "metadata": {},
     "output_type": "execute_result"
    }
   ],
   "source": [
    "# lowercase letters\n",
    "food.lower()"
   ]
  },
  {
   "cell_type": "code",
   "execution_count": 29,
   "id": "89a53dcf",
   "metadata": {},
   "outputs": [
    {
     "data": {
      "text/plain": [
       "'shiryani'"
      ]
     },
     "execution_count": 29,
     "metadata": {},
     "output_type": "execute_result"
    }
   ],
   "source": [
    "#replace\n",
    "food.replace('b','sh')"
   ]
  },
  {
   "cell_type": "code",
   "execution_count": 31,
   "id": "8f116f4a",
   "metadata": {},
   "outputs": [
    {
     "data": {
      "text/plain": [
       "'baba_aammmar with Dr Aammar Tufail'"
      ]
     },
     "execution_count": 31,
     "metadata": {},
     "output_type": "execute_result"
    }
   ],
   "source": [
    "#counting a specific element in a string\n",
    "name= 'baba_aammmar with Dr Aammar Tufail'\n",
    "name"
   ]
  },
  {
   "cell_type": "code",
   "execution_count": 33,
   "id": "e67e736d",
   "metadata": {},
   "outputs": [
    {
     "data": {
      "text/plain": [
       "8"
      ]
     },
     "execution_count": 33,
     "metadata": {},
     "output_type": "execute_result"
    }
   ],
   "source": [
    "name.count('a')"
   ]
  },
  {
   "cell_type": "markdown",
   "id": "873bfb68",
   "metadata": {},
   "source": [
    "### - finding an index number in string"
   ]
  },
  {
   "cell_type": "code",
   "execution_count": 40,
   "id": "5cfb0479",
   "metadata": {},
   "outputs": [
    {
     "data": {
      "text/plain": [
       "'baba_aammar with Dr Aammar Tufail'"
      ]
     },
     "execution_count": 40,
     "metadata": {},
     "output_type": "execute_result"
    }
   ],
   "source": [
    "name= 'baba_aammar with Dr Aammar Tufail'\n",
    "name"
   ]
  },
  {
   "cell_type": "code",
   "execution_count": 41,
   "id": "b290521c",
   "metadata": {
    "scrolled": true
   },
   "outputs": [
    {
     "data": {
      "text/plain": [
       "17"
      ]
     },
     "execution_count": 41,
     "metadata": {},
     "output_type": "execute_result"
    }
   ],
   "source": [
    "name.find(\"D\")"
   ]
  },
  {
   "cell_type": "code",
   "execution_count": 42,
   "id": "f4fb6c28",
   "metadata": {},
   "outputs": [
    {
     "data": {
      "text/plain": [
       "0"
      ]
     },
     "execution_count": 42,
     "metadata": {},
     "output_type": "execute_result"
    }
   ],
   "source": [
    "name.find(\"b\")"
   ]
  },
  {
   "cell_type": "markdown",
   "id": "d5bdcfe2",
   "metadata": {},
   "source": [
    "### - how to split a string"
   ]
  },
  {
   "cell_type": "code",
   "execution_count": 44,
   "id": "7b1a46a8",
   "metadata": {},
   "outputs": [
    {
     "data": {
      "text/plain": [
       "'i love samosa, pakora, raita, biyani and karahi'"
      ]
     },
     "execution_count": 44,
     "metadata": {},
     "output_type": "execute_result"
    }
   ],
   "source": [
    "food=\"i love samosa, pakora, raita, biyani and karahi\"\n",
    "food"
   ]
  },
  {
   "cell_type": "code",
   "execution_count": 45,
   "id": "4bc56d7c",
   "metadata": {},
   "outputs": [
    {
     "data": {
      "text/plain": [
       "['i love samosa', ' pakora', ' raita', ' biyani and karahi']"
      ]
     },
     "execution_count": 45,
     "metadata": {},
     "output_type": "execute_result"
    }
   ],
   "source": [
    "food.split(\",\")"
   ]
  },
  {
   "cell_type": "markdown",
   "id": "5591351a",
   "metadata": {},
   "source": [
    "# Basic Data Structures in Python\n",
    "### 1- Tuple\n",
    "### 2- List\n",
    "### 3- Dictionaries\n",
    "### 4- Set"
   ]
  },
  {
   "cell_type": "markdown",
   "id": "7a3541bc",
   "metadata": {},
   "source": [
    "## 1- Tuple\n",
    "- ordered collection of elements(string, numbers, boolean etc)\n",
    "- enclosed in () round braces/paranthesis\n",
    "- different kind of elements can be stored\n",
    "- once elements are stored, you cannnot change them (unmutateble)"
   ]
  },
  {
   "cell_type": "code",
   "execution_count": 57,
   "id": "8e32efbc",
   "metadata": {},
   "outputs": [
    {
     "data": {
      "text/plain": [
       "('1', 'python', True, 2.5)"
      ]
     },
     "execution_count": 57,
     "metadata": {},
     "output_type": "execute_result"
    }
   ],
   "source": [
    "tup1 = ('1', 'python', True, 2.5)\n",
    "tup1"
   ]
  },
  {
   "cell_type": "code",
   "execution_count": 49,
   "id": "7d9708a6",
   "metadata": {},
   "outputs": [
    {
     "data": {
      "text/plain": [
       "tuple"
      ]
     },
     "execution_count": 49,
     "metadata": {},
     "output_type": "execute_result"
    }
   ],
   "source": [
    "# type of tuple\n",
    "type(tup1)\n"
   ]
  },
  {
   "cell_type": "markdown",
   "id": "cb2e65dd",
   "metadata": {},
   "source": [
    "### - Indexing in Tuple"
   ]
  },
  {
   "cell_type": "code",
   "execution_count": 50,
   "id": "66c6b552",
   "metadata": {},
   "outputs": [
    {
     "data": {
      "text/plain": [
       "'1'"
      ]
     },
     "execution_count": 50,
     "metadata": {},
     "output_type": "execute_result"
    }
   ],
   "source": [
    "tup1[0]"
   ]
  },
  {
   "cell_type": "code",
   "execution_count": 51,
   "id": "9026e8ce",
   "metadata": {},
   "outputs": [
    {
     "data": {
      "text/plain": [
       "'python'"
      ]
     },
     "execution_count": 51,
     "metadata": {},
     "output_type": "execute_result"
    }
   ],
   "source": [
    "tup1[1]"
   ]
  },
  {
   "cell_type": "code",
   "execution_count": 52,
   "id": "1b5bb43f",
   "metadata": {},
   "outputs": [
    {
     "data": {
      "text/plain": [
       "2.5"
      ]
     },
     "execution_count": 52,
     "metadata": {},
     "output_type": "execute_result"
    }
   ],
   "source": [
    "tup1[3]"
   ]
  },
  {
   "cell_type": "code",
   "execution_count": 53,
   "id": "61244246",
   "metadata": {},
   "outputs": [
    {
     "data": {
      "text/plain": [
       "('1', 'python', True)"
      ]
     },
     "execution_count": 53,
     "metadata": {},
     "output_type": "execute_result"
    }
   ],
   "source": [
    "#last element is exclusive in Python\n",
    "tup1[0:3]\n"
   ]
  },
  {
   "cell_type": "code",
   "execution_count": 54,
   "id": "d566fa9f",
   "metadata": {},
   "outputs": [
    {
     "data": {
      "text/plain": [
       "4"
      ]
     },
     "execution_count": 54,
     "metadata": {},
     "output_type": "execute_result"
    }
   ],
   "source": [
    "#count of elements in Tuple\n",
    "len(tup1)"
   ]
  },
  {
   "cell_type": "code",
   "execution_count": 65,
   "id": "685165a2",
   "metadata": {},
   "outputs": [
    {
     "data": {
      "text/plain": [
       "(2, 'Python with Hamza', 3.5, False)"
      ]
     },
     "execution_count": 65,
     "metadata": {},
     "output_type": "execute_result"
    }
   ],
   "source": [
    "tup2= (2, \"Python with Hamza\", 3.5, False)\n",
    "tup2\n"
   ]
  },
  {
   "cell_type": "code",
   "execution_count": 66,
   "id": "eb8c5c46",
   "metadata": {
    "scrolled": true
   },
   "outputs": [
    {
     "data": {
      "text/plain": [
       "('1', 'python', True, 2.5, 2, 'Python with Hamza', 3.5, False)"
      ]
     },
     "execution_count": 66,
     "metadata": {},
     "output_type": "execute_result"
    }
   ],
   "source": [
    "# concatenate (to add two or more tuples)\n",
    "tup1 + tup2"
   ]
  },
  {
   "cell_type": "code",
   "execution_count": 68,
   "id": "b0989abd",
   "metadata": {},
   "outputs": [
    {
     "data": {
      "text/plain": [
       "('1',\n",
       " 'python',\n",
       " True,\n",
       " 2.5,\n",
       " '1',\n",
       " 'python',\n",
       " True,\n",
       " 2.5,\n",
       " 2,\n",
       " 'Python with Hamza',\n",
       " 3.5,\n",
       " False)"
      ]
     },
     "execution_count": 68,
     "metadata": {},
     "output_type": "execute_result"
    }
   ],
   "source": [
    "# concatenate + repeat\n",
    "tup1*2 + tup2"
   ]
  },
  {
   "cell_type": "code",
   "execution_count": 70,
   "id": "69b7cac7",
   "metadata": {},
   "outputs": [
    {
     "data": {
      "text/plain": [
       "[20, 30, 40, 50, 60]"
      ]
     },
     "execution_count": 70,
     "metadata": {},
     "output_type": "execute_result"
    }
   ],
   "source": [
    "tup3=[20,30,40,50,60]\n",
    "tup3"
   ]
  },
  {
   "cell_type": "code",
   "execution_count": 71,
   "id": "9a5b2eca",
   "metadata": {},
   "outputs": [
    {
     "data": {
      "text/plain": [
       "20"
      ]
     },
     "execution_count": 71,
     "metadata": {},
     "output_type": "execute_result"
    }
   ],
   "source": [
    "# minimum value\n",
    "min(tup3)"
   ]
  },
  {
   "cell_type": "code",
   "execution_count": 72,
   "id": "36b4fa59",
   "metadata": {},
   "outputs": [
    {
     "data": {
      "text/plain": [
       "60"
      ]
     },
     "execution_count": 72,
     "metadata": {},
     "output_type": "execute_result"
    }
   ],
   "source": [
    "# maximum value\n",
    "max(tup3)\n"
   ]
  },
  {
   "cell_type": "code",
   "execution_count": 73,
   "id": "fb57572d",
   "metadata": {},
   "outputs": [
    {
     "data": {
      "text/plain": [
       "[20, 30, 40, 50, 60, 20, 30, 40, 50, 60]"
      ]
     },
     "execution_count": 73,
     "metadata": {},
     "output_type": "execute_result"
    }
   ],
   "source": [
    "tup3*2\n"
   ]
  },
  {
   "cell_type": "markdown",
   "id": "04080b1a",
   "metadata": {},
   "source": [
    "---"
   ]
  },
  {
   "cell_type": "markdown",
   "id": "2160c321",
   "metadata": {},
   "source": [
    "# 2-  List\n"
   ]
  },
  {
   "cell_type": "markdown",
   "id": "417f6b5b",
   "metadata": {},
   "source": [
    "- ordered collection of ekements\n",
    "- enclosed in [ ] square braces/bracket\n",
    "- mutateable, you can change the value"
   ]
  },
  {
   "cell_type": "code",
   "execution_count": 101,
   "id": "50eb4b63",
   "metadata": {},
   "outputs": [
    {
     "data": {
      "text/plain": [
       "[2, 'babaammar', False]"
      ]
     },
     "execution_count": 101,
     "metadata": {},
     "output_type": "execute_result"
    }
   ],
   "source": [
    "list1= [2,'babaammar', False]\n",
    "list1"
   ]
  },
  {
   "cell_type": "code",
   "execution_count": 80,
   "id": "956854c3",
   "metadata": {},
   "outputs": [
    {
     "data": {
      "text/plain": [
       "list"
      ]
     },
     "execution_count": 80,
     "metadata": {},
     "output_type": "execute_result"
    }
   ],
   "source": [
    "type(list1)"
   ]
  },
  {
   "cell_type": "code",
   "execution_count": 82,
   "id": "f2abeff7",
   "metadata": {},
   "outputs": [
    {
     "data": {
      "text/plain": [
       "3"
      ]
     },
     "execution_count": 82,
     "metadata": {},
     "output_type": "execute_result"
    }
   ],
   "source": [
    "len(list1)"
   ]
  },
  {
   "cell_type": "code",
   "execution_count": 85,
   "id": "942c94e2",
   "metadata": {},
   "outputs": [
    {
     "data": {
      "text/plain": [
       "False"
      ]
     },
     "execution_count": 85,
     "metadata": {},
     "output_type": "execute_result"
    }
   ],
   "source": [
    "list1[2]"
   ]
  },
  {
   "cell_type": "code",
   "execution_count": 87,
   "id": "c680fae5",
   "metadata": {},
   "outputs": [
    {
     "data": {
      "text/plain": [
       "[3, 5, 'Aammar', 'Codanics', 478, 53.2, False]"
      ]
     },
     "execution_count": 87,
     "metadata": {},
     "output_type": "execute_result"
    }
   ],
   "source": [
    "list2 = [3,5, \"Aammar\", \"Codanics\", 478 , 53.2 , False]\n",
    "list2"
   ]
  },
  {
   "cell_type": "code",
   "execution_count": 89,
   "id": "e2eccfc1",
   "metadata": {},
   "outputs": [
    {
     "data": {
      "text/plain": [
       "[2, 'babaammar', False, 3, 5, 'Aammar', 'Codanics', 478, 53.2, False]"
      ]
     },
     "execution_count": 89,
     "metadata": {},
     "output_type": "execute_result"
    }
   ],
   "source": [
    "list1 + list2"
   ]
  },
  {
   "cell_type": "code",
   "execution_count": 91,
   "id": "4c02c2e9",
   "metadata": {},
   "outputs": [
    {
     "data": {
      "text/plain": [
       "[2, 'babaammar', False, 2, 'babaammar', False]"
      ]
     },
     "execution_count": 91,
     "metadata": {},
     "output_type": "execute_result"
    }
   ],
   "source": [
    "list1*2"
   ]
  },
  {
   "cell_type": "code",
   "execution_count": 102,
   "id": "dbb5b467",
   "metadata": {},
   "outputs": [
    {
     "data": {
      "text/plain": [
       "[2, 'babaammar', False]"
      ]
     },
     "execution_count": 102,
     "metadata": {},
     "output_type": "execute_result"
    }
   ],
   "source": [
    "list1"
   ]
  },
  {
   "cell_type": "code",
   "execution_count": 107,
   "id": "b1940744",
   "metadata": {},
   "outputs": [
    {
     "data": {
      "text/plain": [
       "[False, 'babaammar', 2]"
      ]
     },
     "execution_count": 107,
     "metadata": {},
     "output_type": "execute_result"
    }
   ],
   "source": [
    "list1.reverse()\n",
    "list1"
   ]
  },
  {
   "cell_type": "code",
   "execution_count": 113,
   "id": "280bdec2",
   "metadata": {
    "scrolled": true
   },
   "outputs": [
    {
     "data": {
      "text/plain": [
       "[False,\n",
       " 'babaammar',\n",
       " 2,\n",
       " 'Codanics Youtube Channel',\n",
       " 'Codanics Youtube Channel',\n",
       " 'Codanics Youtube Channel',\n",
       " 'Codanics Youtube Channel',\n",
       " 'Codanics Youtube Channel',\n",
       " 'Codanics Youtube Channel']"
      ]
     },
     "execution_count": 113,
     "metadata": {},
     "output_type": "execute_result"
    }
   ],
   "source": [
    "list1.append(\"Codanics Youtube Channel\")\n",
    "list1"
   ]
  },
  {
   "cell_type": "code",
   "execution_count": 118,
   "id": "1add3634",
   "metadata": {
    "scrolled": true
   },
   "outputs": [
    {
     "data": {
      "text/plain": [
       "6"
      ]
     },
     "execution_count": 118,
     "metadata": {},
     "output_type": "execute_result"
    }
   ],
   "source": [
    "list1.count('Codanics Youtube Channel')"
   ]
  },
  {
   "cell_type": "code",
   "execution_count": 119,
   "id": "64d4da78",
   "metadata": {},
   "outputs": [
    {
     "data": {
      "text/plain": [
       "[20, 30, 35, 50, 40, 12, 15, 11, 10, 356, 56, 886]"
      ]
     },
     "execution_count": 119,
     "metadata": {},
     "output_type": "execute_result"
    }
   ],
   "source": [
    "list3= [20, 30, 35, 50, 40,12,15,11,10,356,56,886]\n",
    "list3"
   ]
  },
  {
   "cell_type": "code",
   "execution_count": 120,
   "id": "cbe01700",
   "metadata": {
    "scrolled": true
   },
   "outputs": [
    {
     "data": {
      "text/plain": [
       "12"
      ]
     },
     "execution_count": 120,
     "metadata": {},
     "output_type": "execute_result"
    }
   ],
   "source": [
    "len(list3)"
   ]
  },
  {
   "cell_type": "code",
   "execution_count": 122,
   "id": "470d25e0",
   "metadata": {},
   "outputs": [
    {
     "data": {
      "text/plain": [
       "[10, 11, 12, 15, 20, 30, 35, 40, 50, 56, 356, 886]"
      ]
     },
     "execution_count": 122,
     "metadata": {},
     "output_type": "execute_result"
    }
   ],
   "source": [
    "# sorting a list\n",
    "list3.sort()\n",
    "list3"
   ]
  },
  {
   "cell_type": "code",
   "execution_count": 124,
   "id": "4bfac13b",
   "metadata": {},
   "outputs": [
    {
     "data": {
      "text/plain": [
       "[10,\n",
       " 11,\n",
       " 12,\n",
       " 15,\n",
       " 20,\n",
       " 30,\n",
       " 35,\n",
       " 40,\n",
       " 50,\n",
       " 56,\n",
       " 356,\n",
       " 886,\n",
       " 10,\n",
       " 11,\n",
       " 12,\n",
       " 15,\n",
       " 20,\n",
       " 30,\n",
       " 35,\n",
       " 40,\n",
       " 50,\n",
       " 56,\n",
       " 356,\n",
       " 886]"
      ]
     },
     "execution_count": 124,
     "metadata": {},
     "output_type": "execute_result"
    }
   ],
   "source": [
    "list3*2"
   ]
  },
  {
   "cell_type": "code",
   "execution_count": 128,
   "id": "51c3de28",
   "metadata": {},
   "outputs": [
    {
     "data": {
      "text/plain": [
       "[False,\n",
       " 'babaammar',\n",
       " 2,\n",
       " 'Codanics Youtube Channel',\n",
       " 'Codanics Youtube Channel',\n",
       " 'Codanics Youtube Channel',\n",
       " 'Codanics Youtube Channel',\n",
       " 'Codanics Youtube Channel',\n",
       " 'Codanics Youtube Channel',\n",
       " 3,\n",
       " 5,\n",
       " 'Aammar',\n",
       " 'Codanics',\n",
       " 478,\n",
       " 53.2,\n",
       " False]"
      ]
     },
     "execution_count": 128,
     "metadata": {},
     "output_type": "execute_result"
    }
   ],
   "source": [
    "lists=list1 + list2\n",
    "lists"
   ]
  },
  {
   "cell_type": "markdown",
   "id": "e72cf3fb",
   "metadata": {},
   "source": [
    "## 3- Dictionaries\n",
    "- An unordered collection of elements\n",
    "- Key and Value\n",
    "- Curly braces or brackets { }\n",
    "- Mutateable/Change the values"
   ]
  },
  {
   "cell_type": "code",
   "execution_count": 131,
   "id": "24fbecb0",
   "metadata": {},
   "outputs": [
    {
     "data": {
      "text/plain": [
       "{'Samosa': 30, 'Raita': 20, 'Pakora': 100, 'Salad': 50, 'Chicken Rolls': 30}"
      ]
     },
     "execution_count": 131,
     "metadata": {},
     "output_type": "execute_result"
    }
   ],
   "source": [
    "# Food and their prices\n",
    "food1 = {\"Samosa\":30, \"Raita\": 20, \"Pakora\":100, \"Salad\": 50, \"Chicken Rolls\": 30}\n",
    "food1"
   ]
  },
  {
   "cell_type": "code",
   "execution_count": 132,
   "id": "13f1418a",
   "metadata": {},
   "outputs": [
    {
     "data": {
      "text/plain": [
       "dict"
      ]
     },
     "execution_count": 132,
     "metadata": {},
     "output_type": "execute_result"
    }
   ],
   "source": [
    "type(food1)"
   ]
  },
  {
   "cell_type": "code",
   "execution_count": 134,
   "id": "d611e639",
   "metadata": {},
   "outputs": [
    {
     "data": {
      "text/plain": [
       "dict_keys(['Samosa', 'Raita', 'Pakora', 'Salad', 'Chicken Rolls'])"
      ]
     },
     "execution_count": 134,
     "metadata": {},
     "output_type": "execute_result"
    }
   ],
   "source": [
    "# extract data\n",
    "keys1 = food1.keys()\n",
    "keys1"
   ]
  },
  {
   "cell_type": "code",
   "execution_count": 137,
   "id": "cc536319",
   "metadata": {},
   "outputs": [
    {
     "data": {
      "text/plain": [
       "dict_values([30, 20, 100, 50, 30])"
      ]
     },
     "execution_count": 137,
     "metadata": {},
     "output_type": "execute_result"
    }
   ],
   "source": [
    "# extract values\n",
    "values = food1.values()\n",
    "values"
   ]
  },
  {
   "cell_type": "code",
   "execution_count": 138,
   "id": "c8c25512",
   "metadata": {},
   "outputs": [
    {
     "data": {
      "text/plain": [
       "{'Samosa': 30,\n",
       " 'Raita': 20,\n",
       " 'Pakora': 100,\n",
       " 'Salad': 50,\n",
       " 'Chicken Rolls': 30,\n",
       " 'Tikki': 10}"
      ]
     },
     "execution_count": 138,
     "metadata": {},
     "output_type": "execute_result"
    }
   ],
   "source": [
    "# adding new element\n",
    "food1[\"Tikki\"]=10\n",
    "food1"
   ]
  },
  {
   "cell_type": "code",
   "execution_count": 140,
   "id": "88a74e18",
   "metadata": {},
   "outputs": [
    {
     "data": {
      "text/plain": [
       "{'Samosa': 30,\n",
       " 'Raita': 20,\n",
       " 'Pakora': 100,\n",
       " 'Salad': 50,\n",
       " 'Chicken Rolls': 30,\n",
       " 'Tikki': 15}"
      ]
     },
     "execution_count": 140,
     "metadata": {},
     "output_type": "execute_result"
    }
   ],
   "source": [
    "# update the value\n",
    "food1[\"Tikki\"]=15\n",
    "food1"
   ]
  },
  {
   "cell_type": "code",
   "execution_count": 152,
   "id": "0361bb40",
   "metadata": {},
   "outputs": [
    {
     "data": {
      "text/plain": [
       "{'Dates': 50, 'Chocolates': 200, 'Sawaiyan': 1000}"
      ]
     },
     "execution_count": 152,
     "metadata": {},
     "output_type": "execute_result"
    }
   ],
   "source": [
    "food2 = {\"Dates\":50, \"Chocolates\":200, \"Sawaiyan\": 1000}\n",
    "food2"
   ]
  },
  {
   "cell_type": "code",
   "execution_count": 155,
   "id": "e104fb6d",
   "metadata": {},
   "outputs": [],
   "source": [
    "# concatenate\n",
    "food1.update(food2)"
   ]
  },
  {
   "cell_type": "code",
   "execution_count": 156,
   "id": "8df0e1e1",
   "metadata": {},
   "outputs": [
    {
     "data": {
      "text/plain": [
       "{'Samosa': 30,\n",
       " 'Raita': 20,\n",
       " 'Pakora': 100,\n",
       " 'Salad': 50,\n",
       " 'Chicken Rolls': 30,\n",
       " 'Tikki': 15,\n",
       " 'Dates': 50,\n",
       " 'Chocolates': 200,\n",
       " 'Sawaiyan': 1000}"
      ]
     },
     "execution_count": 156,
     "metadata": {},
     "output_type": "execute_result"
    }
   ],
   "source": [
    "food1"
   ]
  },
  {
   "cell_type": "markdown",
   "id": "aea5c559",
   "metadata": {},
   "source": [
    "## 4- Set\n",
    "- Unordered and unindexed\n",
    "- Curly braces are used { }\n",
    "- No dulpicates allowed"
   ]
  },
  {
   "cell_type": "code",
   "execution_count": 180,
   "id": "75d628de",
   "metadata": {},
   "outputs": [
    {
     "data": {
      "text/plain": [
       "{1, 2.1, 5.2, 'Codanics', 'Hamza', 'Mangla'}"
      ]
     },
     "execution_count": 180,
     "metadata": {},
     "output_type": "execute_result"
    }
   ],
   "source": [
    "s1 = {1, 2.1, 5.2, \"Hamza\", \"Codanics\", \"Mangla\", True}\n",
    "s1"
   ]
  },
  {
   "cell_type": "code",
   "execution_count": 181,
   "id": "263de807",
   "metadata": {},
   "outputs": [],
   "source": [
    "s1.add(\"Aammar\")"
   ]
  },
  {
   "cell_type": "code",
   "execution_count": 182,
   "id": "19273df2",
   "metadata": {},
   "outputs": [
    {
     "data": {
      "text/plain": [
       "{1, 2.1, 5.2, 'Aammar', 'Codanics', 'Hamza', 'Mangla'}"
      ]
     },
     "execution_count": 182,
     "metadata": {},
     "output_type": "execute_result"
    }
   ],
   "source": [
    "s1"
   ]
  },
  {
   "cell_type": "code",
   "execution_count": 184,
   "id": "6ed57e5c",
   "metadata": {},
   "outputs": [
    {
     "data": {
      "text/plain": [
       "{1, 2.1, 5.2, 'Aammar', 'Codanics', 'Hamza', 'Mangla'}"
      ]
     },
     "execution_count": 184,
     "metadata": {},
     "output_type": "execute_result"
    }
   ],
   "source": [
    "s1.add(\"Hamza\")\n",
    "s1"
   ]
  },
  {
   "cell_type": "code",
   "execution_count": 185,
   "id": "ea29dd80",
   "metadata": {},
   "outputs": [
    {
     "data": {
      "text/plain": [
       "{1, 2.1, 5.2, 'Codanics', 'Hamza', 'Mangla'}"
      ]
     },
     "execution_count": 185,
     "metadata": {},
     "output_type": "execute_result"
    }
   ],
   "source": [
    "s1.remove(\"Aammar\")\n",
    "s1"
   ]
  },
  {
   "cell_type": "code",
   "execution_count": null,
   "id": "14287269",
   "metadata": {},
   "outputs": [],
   "source": []
  }
 ],
 "metadata": {
  "kernelspec": {
   "display_name": "Python 3 (ipykernel)",
   "language": "python",
   "name": "python3"
  },
  "language_info": {
   "codemirror_mode": {
    "name": "ipython",
    "version": 3
   },
   "file_extension": ".py",
   "mimetype": "text/x-python",
   "name": "python",
   "nbconvert_exporter": "python",
   "pygments_lexer": "ipython3",
   "version": "3.9.12"
  }
 },
 "nbformat": 4,
 "nbformat_minor": 5
}
